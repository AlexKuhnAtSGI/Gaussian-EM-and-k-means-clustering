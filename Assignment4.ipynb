{
 "cells": [
  {
   "cell_type": "markdown",
   "metadata": {
    "colab_type": "text",
    "id": "1_C88UvxQnfz"
   },
   "source": [
    "# Assignment 4"
   ]
  },
  {
   "cell_type": "markdown",
   "metadata": {
    "colab_type": "text",
    "id": "Ju7ItfJVSWF6"
   },
   "source": [
    "Follow the instructions and fill the required parts of this notebook. Provide comments for clarification of your code when necessary. Points will be deducted if we have a hard time reading your\n",
    "solutions or understanding the structure of your code and results.\n",
    "Note, you do **not** need to submit a separate report in pdf format. Complete this notebook and submit it. This assignment should be done individually. "
   ]
  },
  {
   "cell_type": "markdown",
   "metadata": {
    "colab_type": "text",
    "id": "UvcK5MX2rMwb"
   },
   "source": [
    "# Introduction\n",
    "In this homework you implement two unsupervised methods, k-means and EM for Guassian mixtures, for data clustering. In the follwoing, $N$ denotes the number of data points, $K$ is the predefined number of clusters, $D$ is the dimension of each data point, $\\textbf{x}_i \\in \\mathcal{R}^D$ denotes a single data point where $\\textbf{x}_i \\sim p(\\textbf{x}|z=k), k=1,..., K$ denotes the data generating distribution and $p(z=k)$ is the prior on the $k^{th}$ cluster."
   ]
  },
  {
   "cell_type": "markdown",
   "metadata": {
    "colab_type": "text",
    "id": "-cnL-ibpYpgP"
   },
   "source": [
    "## Part 1. Generating the data\n",
    "\n",
    "First, we generate some data for this problem. Set the number of points $N=400$, their dimension $D=2$, and the number of clusters $K=2$, and generate data from the distribution $p(x|z=k) = \\mathcal{N}(\\mu_k, \\Sigma_k)$.\n",
    "  Sample $200$ data points for $k=1$ and 200 for $k=2$, with\n",
    "\n",
    "  $$\n",
    "    \\mu_1=\n",
    "    \\begin{bmatrix}\n",
    "      0.1 \\\\\n",
    "      0.1\n",
    "    \\end{bmatrix}\n",
    "    \\ \\text{,}\\\n",
    "    \\mu_2=\n",
    "    \\begin{bmatrix}\n",
    "      10.0 \\\\\n",
    "      0.1\n",
    "    \\end{bmatrix}\n",
    "    \\ \\text{ and }\\\n",
    "    \\Sigma_1=\\Sigma_2=\n",
    "    \\begin{bmatrix}\n",
    "      10       & 7 \\\\\n",
    "      7 & 10\n",
    "    \\end{bmatrix}\n",
    "  $$\n",
    "Since you generated the data, you already know which sample comes from which class (here cluster)."
   ]
  },
  {
   "cell_type": "code",
   "execution_count": 600,
   "metadata": {
    "colab": {},
    "colab_type": "code",
    "id": "nnf5cg2WrMwh"
   },
   "outputs": [],
   "source": [
    "# Cell 1\n",
    "%matplotlib inline\n",
    "import scipy\n",
    "import numpy as np\n",
    "import itertools\n",
    "import matplotlib.pyplot as plt"
   ]
  },
  {
   "cell_type": "code",
   "execution_count": 601,
   "metadata": {
    "colab": {},
    "colab_type": "code",
    "id": "5DIWFYp7rMwx"
   },
   "outputs": [],
   "source": [
    "# Cell 2: Run this cell to generate the data\n",
    "num_samples = 400\n",
    "#I discuss this later, but here I briefly toyed with num_samples = 10000 to get a more accurate picture of things\n",
    "cov = np.array([[10., 7], [7, 10.]]) * 1\n",
    "mean_1 = [.1, .1]\n",
    "mean_2 = [.1, 10]\n",
    "\n",
    "x_class1 = np.random.multivariate_normal(mean_1, cov, num_samples // 2)\n",
    "x_class2 = np.random.multivariate_normal(mean_2, cov, num_samples // 2)\n",
    "xy_class1 = np.column_stack((x_class1, np.zeros(num_samples // 2)))\n",
    "xy_class2 = np.column_stack((x_class2, np.ones(num_samples // 2)))\n",
    "data_full = np.row_stack([xy_class1, xy_class2])\n",
    "np.random.shuffle(data_full)\n",
    "data = data_full[:, :2]\n",
    "labels = data_full[:, 2]"
   ]
  },
  {
   "cell_type": "markdown",
   "metadata": {
    "colab_type": "text",
    "id": "FrzDN7-KgDQb"
   },
   "source": [
    "Now, we make a scatter plot of the data points showing the true cluster assignment of each point\n",
    "using different colors and shapes."
   ]
  },
  {
   "cell_type": "code",
   "execution_count": 602,
   "metadata": {
    "colab": {},
    "colab_type": "code",
    "id": "a6p-dkttrMw7"
   },
   "outputs": [
    {
     "data": {
      "image/png": "[encoded data removed]",
      "text/plain": [
       "<Figure size 432x288 with 1 Axes>"
      ]
     },
     "metadata": {
      "needs_background": "light"
     },
     "output_type": "display_data"
    }
   ],
   "source": [
    "# Cell 3: Run this cell to make scatter plot of the data points showing the true cluster assignment\n",
    "plt.plot(data[labels==0, 0], data[labels==0, 1], 'xr'); # first class, x shape\n",
    "plt.plot(data[labels==1, 0], data[labels==1, 1], 'ob'); # second class, circle shape\n"
   ]
  },
  {
   "cell_type": "markdown",
   "metadata": {
    "colab_type": "text",
    "id": "ZoC3RHLErMxD"
   },
   "source": [
    "## Part 2. Implement and Run K-Means algorithm\n",
    "\n",
    "Now, we assume that the true class labels are not known. Implement the k-means algorithm to cluster the data points.\n",
    "  To this end we need to write two functions: `km_assignment_step`, and `km_refitting_step` as given in the lecture (Here, `km_` means k-means). You may initialize the algorithm with\n",
    "  $$\n",
    "    \\hat\\mu_1=\n",
    "    \\begin{bmatrix}\n",
    "      0.0 \\\\\n",
    "      0.0\n",
    "    \\end{bmatrix}\n",
    "    \\ \\text{,}\\\n",
    "    \\hat\\mu_2=\n",
    "    \\begin{bmatrix}\n",
    "      1.0 \\\\\n",
    "      6.0\n",
    "    \\end{bmatrix}\n",
    "  $$\n",
    "  and run it until convergence. "
   ]
  },
  {
   "cell_type": "markdown",
   "metadata": {
    "colab_type": "text",
    "id": "EHSk4N7LlyD2"
   },
   "source": [
    "Fill the below Cells 5 and 6 to complete the two needed functions `km_assignment_step`, and `km_refitting_step`. The required function to calculate cost J is provided in Cell 4."
   ]
  },
  {
   "cell_type": "code",
   "execution_count": 603,
   "metadata": {
    "colab": {},
    "colab_type": "code",
    "id": "g19JKEOwrMxF"
   },
   "outputs": [],
   "source": [
    "# Cell 4 (To Do): Run this cell for Cost function J\n",
    "def cost(data, R, Mu):\n",
    "    N, D = data.shape\n",
    "    K = Mu.shape[1]\n",
    "    J = 0\n",
    "    for k in range(K):\n",
    "        J += np.dot(np.linalg.norm(data - np.array([Mu[:, k], ] * N), axis=1)**2, R[:, k])\n",
    "    return J"
   ]
  },
  {
   "cell_type": "code",
   "execution_count": 604,
   "metadata": {
    "colab": {},
    "colab_type": "code",
    "id": "NUgsacYJrMxN"
   },
   "outputs": [],
   "source": [
    "# Cell 5 (To Do): K-Means Assignment Step\n",
    "def km_assignment_step(data, Mu):\n",
    "    \"\"\" Compute K-Means assignment step\n",
    "    \n",
    "    Args:\n",
    "        data: a NxD matrix for the data points\n",
    "        Mu: a DxK matrix for the cluster means locations\n",
    "    \n",
    "    Returns:\n",
    "        R_new: a NxK matrix of responsibilities. Each row of the matrix contains K elements, one of which should be 1\n",
    "        and the rest should be zero. This will mean that this particular point \n",
    "        belongs to one and only one cluster.\n",
    "    \"\"\"\n",
    "    \n",
    "    N, D = data.shape #Number of datapoints and dimension of datapoint\n",
    "    K = Mu.shape[1] # number of clusters\n",
    "    r = np.zeros((N, K)) \n",
    "    for k in range(K):\n",
    "        r[:, k] = np.sum((data-Mu[:, k])**2,axis=1)\n",
    "    # Fill this in:\n",
    "    \n",
    "    # arg_min = ... # argmin along dimension 1\n",
    "    arg_min = np.argmin(r,1)\n",
    "    \n",
    "    # R_new = ... # Set to zeros with shape (N, K)\n",
    "    R_new = np.zeros((N, K))\n",
    "    \n",
    "    # R_new[..., ...] = 1 # Assign the proper element in each row to 1\n",
    "    for i in range(N):\n",
    "        R_new[i, arg_min[i]] = 1\n",
    "        \n",
    "    return R_new"
   ]
  },
  {
   "cell_type": "code",
   "execution_count": 605,
   "metadata": {
    "colab": {},
    "colab_type": "code",
    "id": "jEP54NP5rMxT"
   },
   "outputs": [],
   "source": [
    "# Cell 6 (To Do): K-means Refitting Step\n",
    "def km_refitting_step(data, R, Mu):\n",
    "    \"\"\" Compute K-Means refitting step.\n",
    "    \n",
    "    Args:\n",
    "        data: a NxD matrix for the data points\n",
    "        R: a NxK matrix of responsibilities. Each row of the matrix contains K elements, one of which should be 1\n",
    "        and the rest should be zero. This will mean that this particular point \n",
    "        belongs to one and only one cluster.\n",
    "        Mu: a DxK matrix for the cluster means locations\n",
    "    \n",
    "    Returns:\n",
    "        Mu_new: a DxK matrix for the new cluster means locations\n",
    "    \"\"\"\n",
    "    N, D = data.shape # Number of datapoints and dimension of datapoint\n",
    "    K = R.shape[1] # number of clusters\n",
    "\n",
    "    Mu_new = np.zeros((D, K))\n",
    "    for i in range(K):\n",
    "      # Fill this in:\n",
    "      # Mu_new = ...\n",
    "        Mu_new[i] = np.matmul(data.T, R[:,i])/np.sum(R[:, i])\n",
    "        \n",
    "    return Mu_new\n"
   ]
  },
  {
   "cell_type": "markdown",
   "metadata": {
    "colab_type": "text",
    "id": "V3nlBXJLqRw2"
   },
   "source": [
    "Run Cell 7 to call the k-means algorithm and apply it to the data ponts. You may play with the `max_iter` and initilil values of `Mu` to see their effect.\n"
   ]
  },
  {
   "cell_type": "code",
   "execution_count": 606,
   "metadata": {
    "colab": {},
    "colab_type": "code",
    "id": "fspvkqe8rMxa"
   },
   "outputs": [
    {
     "name": "stdout",
     "output_type": "stream",
     "text": [
      "0 297535.24861873663\n",
      "1 191605.02856529772\n",
      "2 181434.1287391986\n",
      "3 180971.63867460797\n",
      "4 180891.61594975943\n",
      "5 180883.20582626716\n",
      "6 180883.20582626716\n",
      "7 180883.20582626716\n",
      "8 180883.20582626716\n",
      "9 180883.20582626716\n",
      "10 180883.20582626716\n",
      "11 180883.20582626716\n",
      "12 180883.20582626716\n",
      "13 180883.20582626716\n",
      "14 180883.20582626716\n",
      "15 180883.20582626716\n",
      "16 180883.20582626716\n",
      "17 180883.20582626716\n",
      "18 180883.20582626716\n",
      "19 180883.20582626716\n",
      "20 180883.20582626716\n",
      "21 180883.20582626716\n",
      "22 180883.20582626716\n",
      "23 180883.20582626716\n",
      "24 180883.20582626716\n",
      "25 180883.20582626716\n",
      "26 180883.20582626716\n",
      "27 180883.20582626716\n",
      "28 180883.20582626716\n",
      "29 180883.20582626716\n",
      "30 180883.20582626716\n",
      "31 180883.20582626716\n",
      "32 180883.20582626716\n",
      "33 180883.20582626716\n",
      "34 180883.20582626716\n",
      "35 180883.20582626716\n",
      "36 180883.20582626716\n",
      "37 180883.20582626716\n",
      "38 180883.20582626716\n",
      "39 180883.20582626716\n",
      "40 180883.20582626716\n",
      "41 180883.20582626716\n",
      "42 180883.20582626716\n",
      "43 180883.20582626716\n",
      "44 180883.20582626716\n",
      "45 180883.20582626716\n",
      "46 180883.20582626716\n",
      "47 180883.20582626716\n",
      "48 180883.20582626716\n",
      "49 180883.20582626716\n",
      "50 180883.20582626716\n",
      "51 180883.20582626716\n",
      "52 180883.20582626716\n",
      "53 180883.20582626716\n",
      "54 180883.20582626716\n",
      "55 180883.20582626716\n",
      "56 180883.20582626716\n",
      "57 180883.20582626716\n",
      "58 180883.20582626716\n",
      "59 180883.20582626716\n",
      "60 180883.20582626716\n",
      "61 180883.20582626716\n",
      "62 180883.20582626716\n",
      "63 180883.20582626716\n",
      "64 180883.20582626716\n",
      "65 180883.20582626716\n",
      "66 180883.20582626716\n",
      "67 180883.20582626716\n",
      "68 180883.20582626716\n",
      "69 180883.20582626716\n",
      "70 180883.20582626716\n",
      "71 180883.20582626716\n",
      "72 180883.20582626716\n",
      "73 180883.20582626716\n",
      "74 180883.20582626716\n",
      "75 180883.20582626716\n",
      "76 180883.20582626716\n",
      "77 180883.20582626716\n",
      "78 180883.20582626716\n",
      "79 180883.20582626716\n",
      "80 180883.20582626716\n",
      "81 180883.20582626716\n",
      "82 180883.20582626716\n",
      "83 180883.20582626716\n",
      "84 180883.20582626716\n",
      "85 180883.20582626716\n",
      "86 180883.20582626716\n",
      "87 180883.20582626716\n",
      "88 180883.20582626716\n",
      "89 180883.20582626716\n",
      "90 180883.20582626716\n",
      "91 180883.20582626716\n",
      "92 180883.20582626716\n",
      "93 180883.20582626716\n",
      "94 180883.20582626716\n",
      "95 180883.20582626716\n",
      "96 180883.20582626716\n",
      "97 180883.20582626716\n",
      "98 180883.20582626716\n",
      "99 180883.20582626716\n"
     ]
    }
   ],
   "source": [
    "# Cell 7: Run this cell to call the K-means algorithm\n",
    "N, D = data.shape\n",
    "K = 2\n",
    "max_iter = 100\n",
    "class_init = np.random.binomial(1., .5, size=N)\n",
    "R = np.vstack([class_init, 1 - class_init]).T\n",
    "\n",
    "Mu = np.zeros([D, K])\n",
    "Mu[:, 1] = 1.\n",
    "\n",
    "R.T.dot(data), np.sum(R, axis=0)\n",
    "\n",
    "#Modified slightly to save costs for graphing later\n",
    "#Also, changing var names so that km predictions are saved in different variables from Gaussian EM predictions\n",
    "km_costs = []\n",
    "\n",
    "for it in range(max_iter):\n",
    "    R = km_assignment_step(data, Mu)\n",
    "    Mu = km_refitting_step(data, R, Mu)\n",
    "    x = cost(data, R, Mu)\n",
    "    km_costs.append(x)\n",
    "    print(it, x)\n",
    "\n",
    "km_class_1 = np.where(R[:, 0])\n",
    "km_class_2 = np.where(R[:, 1])"
   ]
  },
  {
   "cell_type": "markdown",
   "metadata": {
    "colab_type": "text",
    "id": "DXWPF3WboIVB"
   },
   "source": [
    "Now, show the resulting cluster assignments on a scatter plot by running Cell 8."
   ]
  },
  {
   "cell_type": "code",
   "execution_count": 607,
   "metadata": {
    "colab": {},
    "colab_type": "code",
    "id": "Pk-0fr3FrMxg",
    "scrolled": true
   },
   "outputs": [
    {
     "data": {
      "image/png": "[encoded data removed]",
      "text/plain": [
       "<Figure size 432x288 with 1 Axes>"
      ]
     },
     "metadata": {
      "needs_background": "light"
     },
     "output_type": "display_data"
    }
   ],
   "source": [
    "# Cell 8: Run to make a scatterplot for the data points showing the K-Means cluster assignments of each point\n",
    "plt.scatter(data[km_class_1,0], data[km_class_1,1]) # first class, x shape\n",
    "plt.scatter(data[km_class_2,0], data[km_class_2,1]) # first class, x shape\n",
    "plt.show()"
   ]
  },
  {
   "cell_type": "markdown",
   "metadata": {
    "colab_type": "text",
    "id": "bDTJ-5qLrMxm"
   },
   "source": [
    "## Part 3. Implement EM algorithm for Gaussian mixtures\n",
    "In this part we implement the EM algorithm for Gaussian mixtures.\n",
    "  Three functions: `log_likelihood`, `gm_e_step`, and `gm_m_step` are needed towards this goal (see lectures slides).\n",
    "  We initialize the algorithm with means as in Part 2, covariances with $\\hat\\Sigma_1=\\hat\\Sigma_2=I$,\n",
    "  and $\\hat\\pi_1=\\hat\\pi_2$. We use the formulas provided in lecture slides, e.g. we update covvariance matrix $\\Sigma_k$ with the follwoing equation:\n",
    "\n",
    "$$\\hat{\\mathbf{\\Sigma}_k} = \\frac{1}{N_k} \\sum^N_{n=1} r_k^{(n)}(\\mathbf{x}^{(n)} - \\hat{\\mathbf{\\mu}_k})(\\mathbf{x}^{(n)} - \\hat{\\mathbf{\\mu}_k})^{\\top}$$\n",
    "    \n",
    "We Run the algorithm until convergence and show the resulting cluster assignments on a scatter plot. \n",
    "\n",
    "Run Cells 9 and 10 to generate functions `normal_density` and `log_likelihood`. Fill Cell 11 and 12 to create `gm_e_step`, and `gm_m_step`."
   ]
  },
  {
   "cell_type": "code",
   "execution_count": 608,
   "metadata": {
    "colab": {},
    "colab_type": "code",
    "id": "FFxr4WvDrMxo"
   },
   "outputs": [],
   "source": [
    " # Cell 9:\n",
    " def normal_density(x, mu, Sigma):\n",
    "    return np.exp(-.5 * np.dot(x - mu, np.linalg.solve(Sigma, x - mu))) \\\n",
    "        / np.sqrt(np.linalg.det(2 * np.pi * Sigma))"
   ]
  },
  {
   "cell_type": "code",
   "execution_count": 609,
   "metadata": {
    "colab": {},
    "colab_type": "code",
    "id": "CJ0LGgIcrMxw"
   },
   "outputs": [],
   "source": [
    "# Cell 10: EM LogLikelihood\n",
    "def log_likelihood(data, Mu, Sigma, Pi):\n",
    "    \"\"\" Compute log likelihood on the data given the Gaussian Mixture Parameters.\n",
    "    \n",
    "    Args:\n",
    "        data: a NxD matrix for the data points\n",
    "        Mu: a DxK matrix for the means of the K Gaussian Mixtures\n",
    "        Sigma: a list of size K with each element being DxD covariance matrix\n",
    "        Pi: a vector of size K for the mixing coefficients\n",
    "    \n",
    "    Returns:\n",
    "        L: a scalar denoting the log likelihood of the data given the Gaussian Mixture\n",
    "    \"\"\"\n",
    "    N, D = Mu.shape\n",
    "    K = len(Sigma)\n",
    "    L, T = 0., 0.\n",
    "    for n in range(N):\n",
    "        for k in range(K):\n",
    "            T += normal_density(data[n, :], Mu[:, k], Sigma[k]) * Pi[k]; # Compute the likelihood from the k-th Gaussian weighted by the mixing coefficients \n",
    "        L += np.log(T)\n",
    "    return L"
   ]
  },
  {
   "cell_type": "code",
   "execution_count": 610,
   "metadata": {
    "colab": {},
    "colab_type": "code",
    "id": "k7MDPx0TrMx0"
   },
   "outputs": [],
   "source": [
    "# Cell 11 (To Do): Gaussian Mixture Expectation Step\n",
    "def gm_e_step(data, Mu, Sigma, Pi):\n",
    "    \"\"\" Gaussian Mixture Expectation Step.\n",
    "\n",
    "    Args:\n",
    "        data: a NxD matrix for the data points\n",
    "        Mu: a DxK matrix for the means of the K Gaussian Mixtures\n",
    "        Sigma: a list of size K with each element being DxD covariance matrix\n",
    "        Pi: a vector of size K for the mixing coefficients\n",
    "    \n",
    "    Returns:\n",
    "        Gamma: a NxK matrix of responsibilities \n",
    "    \"\"\"\n",
    "    \n",
    "    N, D = data.shape\n",
    "    K = len(Sigma)\n",
    "    Gamma = np.zeros((N, K))    \n",
    "    for n in range(N):\n",
    "        for k in range(K):\n",
    "          # Fill this in:\n",
    "        \n",
    "          # Gamma[n, k] =...\n",
    "            Gamma[n, k] = Pi[k] * normal_density(data[n], Mu[:, k], Sigma[k])\n",
    "            \n",
    "        # Gamma[n, :]=... # Normalize by sum across second dimension (mixtures\n",
    "        Gamma[n, :] /= (Gamma[n, 0] + Gamma[n, 1])\n",
    "    return Gamma"
   ]
  },
  {
   "cell_type": "code",
   "execution_count": 611,
   "metadata": {
    "colab": {},
    "colab_type": "code",
    "id": "elUV14QarMx8"
   },
   "outputs": [],
   "source": [
    "# Cell 12 (To Do): Gaussian Mixture Maximization Step\n",
    "def gm_m_step(data, Gamma):\n",
    "    \"\"\" Gaussian Mixture Maximization Step.\n",
    "\n",
    "    Args:\n",
    "        data: a NxD matrix for the data points\n",
    "        Gamma: a NxK matrix of responsibilities \n",
    "    \n",
    "    Returns:\n",
    "        Mu: a DxK matrix for the means of the K Gaussian Mixtures\n",
    "        Sigma: a list of size K with each element being DxD covariance matrix\n",
    "        Pi: a vector of size K for the mixing coefficients\n",
    "    \"\"\"\n",
    "    \n",
    "    N, D = data.shape\n",
    "    N, K = Gamma.shape\n",
    "    Nk = np.sum(Gamma, axis=0) # Sum along first axis \n",
    "    # Fill this in:\n",
    "    # Mu = ...  \n",
    "    Mu = np.matmul(np.transpose(data), Gamma)\n",
    "    Mu = np.column_stack([np.transpose(Mu[:, 0] / float(Nk[0])), np.transpose(Mu[:, 1] / float(Nk[1]))])\n",
    "    \n",
    "    Sigma = [0]*K\n",
    "    for k in range(K):\n",
    "        for n in range(N):\n",
    "            p = np.reshape(data[n, :] - Mu[:, k], (D, 1)) \n",
    "            Sigma[k] += (1/Nk[k])*Gamma[n, k] * p.dot(p.T)\n",
    "    # Fill this in:\n",
    "    # Pi=...\n",
    "    Pi = Nk/N\n",
    "    return Mu, Sigma, Pi\n"
   ]
  },
  {
   "cell_type": "markdown",
   "metadata": {
    "colab_type": "text",
    "id": "eM74ELIE5Slp"
   },
   "source": [
    "Run Cell 13 to call the Gaussian mixture EM algorithm and apply it to the data ponts. You may play with the `max_iter` and initilil values associated to `Mu`, `Sigma` and `Pi` to see their effect.\n"
   ]
  },
  {
   "cell_type": "code",
   "execution_count": 612,
   "metadata": {
    "colab": {},
    "colab_type": "code",
    "id": "WKLfdNe_rMyB"
   },
   "outputs": [
    {
     "name": "stdout",
     "output_type": "stream",
     "text": [
      "0 -8.89496087802441\n",
      "1 -8.96563031090444\n",
      "2 -8.999017341299677\n",
      "3 -9.033417451934604\n",
      "4 -9.07237553433859\n",
      "5 -9.099998079928557\n",
      "6 -9.11552527757936\n",
      "7 -9.131547890518725\n",
      "8 -9.163148047499401\n",
      "9 -9.218794770483203\n",
      "10 -9.297237845065808\n",
      "11 -9.383502928203502\n",
      "12 -9.457923955059389\n",
      "13 -9.511746252167814\n",
      "14 -9.547073957622572\n",
      "15 -9.56926841851433\n",
      "16 -9.582967762646838\n",
      "17 -9.591366528250663\n",
      "18 -9.596502456218227\n",
      "19 -9.599640050927642\n",
      "20 -9.601556105059636\n",
      "21 -9.602726010590194\n",
      "22 -9.603440284726732\n",
      "23 -9.603876364654646\n",
      "24 -9.60414259717898\n",
      "25 -9.604305134471552\n",
      "26 -9.604404364539343\n",
      "27 -9.604464945010225\n",
      "28 -9.604501929657555\n",
      "29 -9.604524508933604\n",
      "30 -9.604538293666854\n",
      "31 -9.604546709296422\n",
      "32 -9.60455184706794\n",
      "33 -9.604554983695362\n",
      "34 -9.604556898617155\n",
      "35 -9.604558067683474\n",
      "36 -9.604558781402439\n",
      "37 -9.604559217130255\n",
      "38 -9.604559483143618\n",
      "39 -9.604559645545681\n",
      "40 -9.604559744692668\n",
      "41 -9.604559805222237\n",
      "42 -9.604559842175696\n",
      "43 -9.604559864735975\n",
      "44 -9.60455987850909\n",
      "45 -9.60455988691764\n",
      "46 -9.60455989205105\n",
      "47 -9.604559895185071\n",
      "48 -9.604559897098373\n",
      "49 -9.604559898266425\n",
      "50 -9.604559898979513\n",
      "51 -9.604559899414891\n",
      "52 -9.604559899680684\n",
      "53 -9.604559899842949\n",
      "54 -9.604559899941979\n",
      "55 -9.604559900002496\n",
      "56 -9.604559900039403\n",
      "57 -9.604559900061957\n",
      "58 -9.604559900075746\n",
      "59 -9.604559900084151\n",
      "60 -9.60455990008926\n",
      "61 -9.604559900092424\n",
      "62 -9.60455990009433\n",
      "63 -9.604559900095492\n",
      "64 -9.604559900096199\n",
      "65 -9.604559900096632\n",
      "66 -9.604559900096898\n",
      "67 -9.604559900097069\n",
      "68 -9.604559900097168\n",
      "69 -9.604559900097218\n",
      "70 -9.604559900097277\n",
      "71 -9.604559900097296\n",
      "72 -9.60455990009731\n",
      "73 -9.604559900097318\n",
      "74 -9.60455990009732\n",
      "75 -9.604559900097318\n",
      "76 -9.60455990009732\n",
      "77 -9.604559900097325\n",
      "78 -9.604559900097327\n",
      "79 -9.604559900097328\n",
      "80 -9.604559900097328\n",
      "81 -9.604559900097328\n",
      "82 -9.604559900097328\n",
      "83 -9.604559900097328\n",
      "84 -9.604559900097328\n",
      "85 -9.604559900097328\n",
      "86 -9.604559900097328\n",
      "87 -9.604559900097328\n",
      "88 -9.604559900097328\n",
      "89 -9.604559900097328\n",
      "90 -9.604559900097328\n",
      "91 -9.604559900097328\n",
      "92 -9.604559900097328\n",
      "93 -9.604559900097328\n",
      "94 -9.604559900097328\n",
      "95 -9.604559900097328\n",
      "96 -9.604559900097328\n",
      "97 -9.604559900097328\n",
      "98 -9.604559900097328\n",
      "99 -9.604559900097328\n"
     ]
    }
   ],
   "source": [
    "# Cell 13: Run this cell to call the Gaussian Mixture EM algorithm\n",
    "N, D = data.shape\n",
    "K = 2\n",
    "\n",
    "Mu = np.zeros((D,K))\n",
    "Mu[:, 1] = 1\n",
    "Sigma = [np.eye(2), np.eye(2)]\n",
    "Pi = np.ones(K) / K\n",
    "\n",
    "Gamma = np.zeros([N, K]) # Gamma is the matrix of responsibilities \n",
    "\n",
    "max_iter  = 100\n",
    "\n",
    "#Modified this to save values for plotting\n",
    "\n",
    "gauss_costs = []\n",
    "\n",
    "for it in range(max_iter):\n",
    "    Gamma = gm_e_step(data, Mu, Sigma, Pi)\n",
    "    Mu, Sigma, Pi = gm_m_step(data, Gamma)\n",
    "    x = log_likelihood(data, Mu, Sigma, Pi)\n",
    "    gauss_costs.append(x)\n",
    "    print(it, x) "
   ]
  },
  {
   "cell_type": "markdown",
   "metadata": {
    "colab_type": "text",
    "id": "ZQJAYvRb7EIn"
   },
   "source": [
    "Now, show the resulting cluster assignments on a scatter plot by running Cell 14."
   ]
  },
  {
   "cell_type": "code",
   "execution_count": 613,
   "metadata": {
    "colab": {},
    "colab_type": "code",
    "id": "lUuTcB777Rh9"
   },
   "outputs": [
    {
     "data": {
      "image/png": "[encoded data removed]",
      "text/plain": [
       "<Figure size 432x288 with 1 Axes>"
      ]
     },
     "metadata": {
      "needs_background": "light"
     },
     "output_type": "display_data"
    }
   ],
   "source": [
    "# Cell 14: Run to make a scatterplot for the data points showing the EM cluster assignments of each point\n",
    "class_1 = np.where(Gamma[:, 0] >= .5)\n",
    "class_2 = np.where(Gamma[:, 1] > .5)\n",
    "plt.plot(data[class_1, 0], data[class_1, 1], 'xr'); # first class, x shape\n",
    "plt.plot(data[class_2, 0], data[class_2, 1], '+b'); # second class, circle shape"
   ]
  },
  {
   "cell_type": "markdown",
   "metadata": {
    "colab_type": "text",
    "id": "TqJLQioWrMyL"
   },
   "source": [
    "## Part 4 (To Do). Comment on findings + additional experiments "
   ]
  },
  {
   "cell_type": "markdown",
   "metadata": {
    "colab_type": "text",
    "id": "luzX0i_hrMyN"
   },
   "source": [
    "* Plot k-means cost vs. the number of iterations.\n",
    "* What is k-means misclassification error? Hint: you generated the data, you know the correct labels. Your unsupervised learning algorithm doesn’t.\n",
    "* Plot log-likelihood vs. the number of iterations for the EM method.\n",
    "* What is the EM misclassification error?\n",
    "* Compare the performance of k-Means and EM based on the resulting cluster assignments. \n",
    "* Compare the performance of k-Means and EM based on their convergence rate. What is the bottleneck for each method? \n",
    "\n"
   ]
  },
  {
   "cell_type": "markdown",
   "metadata": {
    "colab_type": "text",
    "id": "qguJUa2XrMyP"
   },
   "source": [
    "**To Do: Provide your answers here**\n"
   ]
  },
  {
   "cell_type": "code",
   "execution_count": 614,
   "metadata": {},
   "outputs": [
    {
     "data": {
      "image/png": "[encoded data removed]",
      "text/plain": [
       "<Figure size 432x288 with 1 Axes>"
      ]
     },
     "metadata": {
      "needs_background": "light"
     },
     "output_type": "display_data"
    }
   ],
   "source": [
    "#k-means cost vs. the number of iterations\n",
    "max_iter = 100\n",
    "\n",
    "plt.clf()\n",
    "plt.plot(range(max_iter), km_costs)\n",
    "plt.xlabel(\"Iterations\")\n",
    "plt.ylabel(\"Cost\")\n",
    "plt.title(\"K-Means Performance\")\n",
    "plt.show()"
   ]
  },
  {
   "cell_type": "code",
   "execution_count": 615,
   "metadata": {},
   "outputs": [
    {
     "name": "stdout",
     "output_type": "stream",
     "text": [
      "K-Means misclassification error: 0.06989999999999996\n"
     ]
    }
   ],
   "source": [
    "acc = 0\n",
    "for pred in data[km_class_1]:\n",
    "    if (pred in data[labels==0]):\n",
    "       acc += 1\n",
    "\n",
    "for pred in data[km_class_2]:\n",
    "    if (pred in data[labels==1]):\n",
    "       acc += 1\n",
    "print(\"K-Means misclassification error:\", 1 - acc/num_samples)"
   ]
  },
  {
   "cell_type": "code",
   "execution_count": 616,
   "metadata": {},
   "outputs": [
    {
     "data": {
      "image/png": "[encoded data removed]",
      "text/plain": [
       "<Figure size 432x288 with 1 Axes>"
      ]
     },
     "metadata": {
      "needs_background": "light"
     },
     "output_type": "display_data"
    }
   ],
   "source": [
    "#log-likelihood vs. the number of iterations for the EM method\n",
    "max_iter = 100\n",
    "\n",
    "plt.clf()\n",
    "plt.plot(range(max_iter), gauss_costs)\n",
    "plt.xlabel(\"Iterations\")\n",
    "plt.ylabel(\"Log-likelihood\")\n",
    "plt.title(\"Gaussian Performance\")\n",
    "plt.show()"
   ]
  },
  {
   "cell_type": "code",
   "execution_count": 617,
   "metadata": {},
   "outputs": [
    {
     "name": "stdout",
     "output_type": "stream",
     "text": [
      "Gaussian EM misclassification error: 0.01529999999999998\n"
     ]
    }
   ],
   "source": [
    "acc = 0\n",
    "for pred in data[class_1]:\n",
    "    if (pred in data[labels==0]):\n",
    "       acc += 1\n",
    "\n",
    "for pred in data[class_2]:\n",
    "    if (pred in data[labels==1]):\n",
    "       acc += 1\n",
    "print(\"Gaussian EM misclassification error:\", 1 - acc/num_samples)"
   ]
  },
  {
   "cell_type": "markdown",
   "metadata": {},
   "source": [
    "## Cluster Assignments\n",
    "K-means and Gaussian EM both have a respectable performance on this dataset. Over 10 runs, I never observed Gaussian EM having an accuracy below 90%, and K-means only failed to meet that threshold once. However, Gaussian EM consistently outperformed its counterpart. On average, K-means had an error rate around 8%, and Gaussian EM had an error rate of approximately 1%. The Gaussian method is the clear winner.\n",
    "\n",
    "I didn't notice it at the base value of 400 samples, but when I increased it to 10000, I could see a visual distinction between the two approaches. K-means perceives there to be a horizontal divider between the two samples, whereas Gaussian EM is able to correctly deduce that the separator is closer to a diagonal."
   ]
  },
  {
   "cell_type": "markdown",
   "metadata": {},
   "source": [
    "## Convergence\n",
    "Over several runs, K-means typically converges before its 5th iteration, while Gaussian EM converges around or slightly after its 20th iteration. The bottleneck of the two methods (or indeed, any machine learning algorithm) will be the step that performs the greatest number of matrix multiplications: the refitting step in K-means, and the Gaussian mixture maximization step. However, with the extremely small set of 400 samples we're using, neither method takes very long at all to finish executing."
   ]
  }
 ],
 "metadata": {
  "colab": {
   "collapsed_sections": [],
   "name": "hw4_HO.ipynb",
   "provenance": []
  },
  "kernelspec": {
   "display_name": "Python 3",
   "language": "python",
   "name": "python3"
  },
  "language_info": {
   "codemirror_mode": {
    "name": "ipython",
    "version": 3
   },
   "file_extension": ".py",
   "mimetype": "text/x-python",
   "name": "python",
   "nbconvert_exporter": "python",
   "pygments_lexer": "ipython3",
   "version": "3.7.4"
  }
 },
 "nbformat": 4,
 "nbformat_minor": 1
}
